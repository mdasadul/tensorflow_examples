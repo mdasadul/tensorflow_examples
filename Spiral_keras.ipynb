{
  "nbformat": 4,
  "nbformat_minor": 0,
  "metadata": {
    "colab": {
      "name": "Spiral_keras.ipynb",
      "version": "0.3.2",
      "provenance": []
    },
    "kernelspec": {
      "name": "python3",
      "display_name": "Python 3"
    }
  },
  "cells": [
    {
      "cell_type": "markdown",
      "metadata": {
        "id": "view-in-github",
        "colab_type": "text"
      },
      "source": [
        "[View in Colaboratory](https://colab.research.google.com/github/mdasadul/tensorflow_examples/blob/master/Spiral_keras.ipynb)"
      ]
    },
    {
      "metadata": {
        "id": "EjEB8qVRPe8P",
        "colab_type": "text"
      },
      "cell_type": "markdown",
      "source": [
        "We are interested in classificaton. We will try \n",
        "\n",
        "\n",
        "1.   Binary Classification\n",
        "2.   Multi-class classification\n",
        "\n",
        "We will use Tensorflow backend of Keras for simplicity.\n",
        "\n",
        "Before starting Let's loads some lirary\n"
      ]
    },
    {
      "metadata": {
        "id": "X3MzT667OBh5",
        "colab_type": "code",
        "colab": {}
      },
      "cell_type": "code",
      "source": [
        "%matplotlib inline\n",
        "import numpy as np\n",
        "import pandas as pd\n",
        "import matplotlib.pyplot as plt\n",
        "\n",
        "import tensorflow as tf\n",
        "from tensorflow.python.data import Dataset\n",
        "\n",
        "np.random.seed(4375689)\n",
        "\n",
        "from keras.models import Sequential\n",
        "from keras.layers import Dense\n",
        "from keras.optimizers import SGD,Adam\n",
        "from keras.utils import np_utils\n"
      ],
      "execution_count": 0,
      "outputs": []
    },
    {
      "metadata": {
        "id": "LxbC6L52RXfK",
        "colab_type": "text"
      },
      "cell_type": "markdown",
      "source": [
        "Let's create some data by simple function call"
      ]
    },
    {
      "metadata": {
        "id": "RFULJpezOKBQ",
        "colab_type": "code",
        "colab": {}
      },
      "cell_type": "code",
      "source": [
        "\n",
        "def create_spiral_data(N,D,K):\n",
        "  X = np.zeros((N*K,D)) # data matrix (each row = single example)\n",
        "  y = np.zeros(N*K, dtype='uint8') # class labels\n",
        "  for j in range(K):\n",
        "    ix = range(N*j,N*(j+1))\n",
        "    r = np.linspace(0.0,1,N) # radius\n",
        "    t = np.linspace(j*4,(j+1)*4,N) + np.random.randn(N)*0.2 # theta\n",
        "    X[ix] = np.c_[r*np.sin(t), r*np.cos(t)]\n",
        "    y[ix] = j\n",
        "  # lets visualize the data:\n",
        "  return X,y\n",
        "\n",
        "N = 5000 # number of points per class\n",
        "D = 2 # dimensionality\n",
        "K = 2 # number of classes\n",
        "X,y = create_spiral_data(N,D,K)\n",
        "plt.scatter(X[:, 0], X[:, 1], c=y, s=40, cmap=plt.cm.Spectral)\n",
        "plt.show()"
      ],
      "execution_count": 0,
      "outputs": []
    },
    {
      "metadata": {
        "id": "8X5KiQp3NNpH",
        "colab_type": "code",
        "colab": {}
      },
      "cell_type": "code",
      "source": [
        "train_X = X\n",
        "train_y = y\n",
        "\n",
        "model = Sequential()\n",
        "model.add(Dense(32, activation='relu', input_shape=(2,)))\n",
        "model.add(Dense(16, activation='relu'))\n",
        "model.add(Dense(16, activation='relu'))\n",
        "model.add(Dense(1, activation='sigmoid'))\n",
        "\n",
        "model.compile(loss='binary_crossentropy', optimizer=Adam(),\n",
        "              metrics=['accuracy'])\n",
        "\n",
        "history = model.fit(train_X, train_y,validation_split=0.10, batch_size=8, epochs=2000, verbose=0)\n",
        "\n",
        "score = model.evaluate(train_X, train_y, verbose=0)\n",
        "\n",
        "print(\"Accuracy %f\"% (score[1]*100))\n",
        "print(history.history.keys())\n",
        "# summarize history for accuracy\n",
        "plt.plot(history.history['acc'])\n",
        "plt.plot(history.history['val_acc'])\n",
        "plt.title('model accuracy')\n",
        "plt.ylabel('accuracy')\n",
        "plt.xlabel('epoch')\n",
        "plt.legend(['train', 'test'], loc='upper left')\n",
        "plt.show()\n",
        "# summarize history for loss\n",
        "plt.plot(history.history['loss'])\n",
        "plt.plot(history.history['val_loss'])\n",
        "plt.title('model loss')\n",
        "plt.ylabel('loss')\n",
        "plt.xlabel('epoch')\n",
        "plt.legend(['train', 'test'], loc='upper left')\n",
        "plt.show()"
      ],
      "execution_count": 0,
      "outputs": []
    }
  ]
}