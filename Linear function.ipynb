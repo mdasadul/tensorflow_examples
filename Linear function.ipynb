{
 "cells": [
  {
   "cell_type": "markdown",
   "metadata": {},
   "source": [
    "I am interested to learn linear function like y = x**2"
   ]
  },
  {
   "cell_type": "code",
   "execution_count": 75,
   "metadata": {},
   "outputs": [
    {
     "name": "stdout",
     "output_type": "stream",
     "text": [
      "Loss:\n",
      "\n",
      "53.9268\n",
      "0.251213\n",
      "0.25\n",
      "0.25\n",
      "0.25\n",
      "0.25\n",
      "0.25\n",
      "0.25\n",
      "0.25\n",
      "0.25\n",
      "Predicted Values,Actual_values \n",
      " [[[ 0.5]\n",
      "  [ 1. ]]\n",
      "\n",
      " [[ 4.5]\n",
      "  [ 4. ]]\n",
      "\n",
      " [[ 8.5]\n",
      "  [ 9. ]]\n",
      "\n",
      " [[ 4.5]\n",
      "  [ 4. ]]]\n"
     ]
    }
   ],
   "source": [
    "from __future__ import absolute_import\n",
    "from __future__ import division\n",
    "from __future__ import print_function\n",
    "\n",
    "import numpy as np\n",
    "import tensorflow as tf\n",
    "x = tf.placeholder(shape=[4,1], dtype=tf.float32)\n",
    "y_true=tf.placeholder(shape=[4,1],dtype=tf.float32)\n",
    "\n",
    "linear_model = tf.layers.Dense(units=1)\n",
    "y_pred = linear_model(x)\n",
    "\n",
    "loss = tf.losses.mean_squared_error(y_true,y_pred)\n",
    "train = tf.train.AdamOptimizer(learning_rate=1.5).minimize(loss)\n",
    "\n",
    "input_x = input_x = np.random.randint(5, size=(4, 1))\n",
    "input_y = input_x**2\n",
    "init = tf.global_variables_initializer()\n",
    "with tf.Session() as sess:\n",
    "    sess.run(init)\n",
    "    print(\"Loss:\\n\")\n",
    "    for i in range(1000):\n",
    "        _,losses,y_pred1=sess.run((train,loss,y_pred),{x: input_x,y_true:input_y})\n",
    "        if i%100 ==0:\n",
    "            pass\n",
    "            print(losses)\n",
    "    print(\"Predicted Values,Actual_values \\n\",np.array(zip(y_pred1,input_y)))\n"
   ]
  },
  {
   "cell_type": "code",
   "execution_count": null,
   "metadata": {},
   "outputs": [],
   "source": []
  }
 ],
 "metadata": {
  "kernelspec": {
   "display_name": "Python 2",
   "language": "python",
   "name": "python2"
  },
  "language_info": {
   "codemirror_mode": {
    "name": "ipython",
    "version": 2
   },
   "file_extension": ".py",
   "mimetype": "text/x-python",
   "name": "python",
   "nbconvert_exporter": "python",
   "pygments_lexer": "ipython2",
   "version": "2.7.10"
  }
 },
 "nbformat": 4,
 "nbformat_minor": 2
}
